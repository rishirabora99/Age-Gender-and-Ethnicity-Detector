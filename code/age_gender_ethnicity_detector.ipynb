{
 "cells": [
  {
   "cell_type": "code",
   "execution_count": 118,
   "metadata": {
    "executionInfo": {
     "elapsed": 148,
     "status": "ok",
     "timestamp": 1624054305187,
     "user": {
      "displayName": "Armin Bazarjani",
      "photoUrl": "https://lh3.googleusercontent.com/a-/AOh14GgWMh-oi0YJtI-yJdyLDSVztfUualX2xpx_lq-GGA=s64",
      "userId": "09638783858940923330"
     },
     "user_tz": 420
    },
    "id": "ag2kCPtZFBAH"
   },
   "outputs": [],
   "source": [
    "# All imports\n",
    "\n",
    "import numpy as np\n",
    "import pandas as pd\n",
    "from sklearn.model_selection import train_test_split\n",
    "from sklearn.metrics import confusion_matrix, classification_report\n",
    "import matplotlib.pyplot as plt\n",
    "import seaborn as sn\n",
    "import torch\n",
    "from torch import nn\n",
    "import torch.nn.functional as F\n",
    "from torch.utils.data import Dataset, DataLoader\n",
    "from torchvision import transforms\n",
    "from torchinfo import summary\n",
    "from tqdm import tqdm"
   ]
  },
  {
   "cell_type": "code",
   "execution_count": 112,
   "metadata": {},
   "outputs": [],
   "source": [
    "# index to class mapping for all labels\n",
    "\n",
    "age_map = ['1-2', '3-9', '10-20', '21-35', '36-60', '61-116']\n",
    "gen_map = ['Male', 'Female']\n",
    "eth_map = [\"White\", \"Black\", \"Asian\", \"Indian\", \"Hispanic\"]"
   ]
  },
  {
   "cell_type": "code",
   "execution_count": 2,
   "metadata": {
    "executionInfo": {
     "elapsed": 230,
     "status": "ok",
     "timestamp": 1624052399780,
     "user": {
      "displayName": "Armin Bazarjani",
      "photoUrl": "https://lh3.googleusercontent.com/a-/AOh14GgWMh-oi0YJtI-yJdyLDSVztfUualX2xpx_lq-GGA=s64",
      "userId": "09638783858940923330"
     },
     "user_tz": 420
    },
    "id": "UVr-wVukIkfA"
   },
   "outputs": [],
   "source": [
    "# Dataset Class\n",
    "\n",
    "class UTKDataset(Dataset):\n",
    "    '''\n",
    "        Inputs:\n",
    "            dataFrame : Pandas dataFrame\n",
    "            transform : The transform to apply to the dataset\n",
    "    '''\n",
    "    def __init__(self, dataFrame, transform=None):\n",
    "        # read in the transforms\n",
    "        self.transform = transform\n",
    "        \n",
    "        # Use the dataFrame to get the pixel values\n",
    "        data_holder = dataFrame.pixels.apply(lambda x: np.array(x.split(\" \"),dtype=float))\n",
    "        arr = np.stack(data_holder)\n",
    "        arr = arr / 255.0\n",
    "        arr = arr.astype('float32')\n",
    "        arr = arr.reshape(arr.shape[0], 48, 48, 1) # reshape into 48x48x1\n",
    "        self.data = arr\n",
    "        \n",
    "        # get the age, gender, and ethnicity label arrays\n",
    "        self.age_label = np.array(dataFrame.bins[:])        \n",
    "        self.gender_label = np.array(dataFrame.gender[:])\n",
    "        self.eth_label = np.array(dataFrame.ethnicity[:])\n",
    "    \n",
    "    # override the length function\n",
    "    def __len__(self):\n",
    "        return len(self.data)\n",
    "    \n",
    "    # override the getitem function\n",
    "    def __getitem__(self, index):\n",
    "        # load the data at index and apply transform\n",
    "        data = self.data[index]\n",
    "        data = self.transform(data)\n",
    "        \n",
    "        # load the labels into a list and convert to tensors\n",
    "        labels = torch.tensor((self.age_label[index], self.gender_label[index], self.eth_label[index]))\n",
    "        \n",
    "        # return data labels\n",
    "        return data, labels"
   ]
  },
  {
   "cell_type": "code",
   "execution_count": 3,
   "metadata": {
    "executionInfo": {
     "elapsed": 239,
     "status": "ok",
     "timestamp": 1624052401669,
     "user": {
      "displayName": "Armin Bazarjani",
      "photoUrl": "https://lh3.googleusercontent.com/a-/AOh14GgWMh-oi0YJtI-yJdyLDSVztfUualX2xpx_lq-GGA=s64",
      "userId": "09638783858940923330"
     },
     "user_tz": 420
    },
    "id": "cxkn0VdIIlQO"
   },
   "outputs": [],
   "source": [
    "# MutiLabel CNN model Class\n",
    "\n",
    "class MultiLabelCNN(nn.Module):\n",
    "    def __init__(self, num_age, num_gen, num_eth):\n",
    "        super(MultiLabelCNN, self).__init__()\n",
    "\n",
    "        self.cnnModel = nn.Sequential(\n",
    "            nn.Conv2d(1, 32, kernel_size = 3, stride = 1, padding = 1),\n",
    "            nn.MaxPool2d(kernel_size = 3, stride = 2, padding = 1), #24\n",
    "            nn.LeakyReLU(),\n",
    "            nn.Conv2d(32, 64, kernel_size = 3, stride = 1, padding = 1),\n",
    "            nn.MaxPool2d(kernel_size = 3, stride = 2, padding = 1), #12\n",
    "            nn.LeakyReLU(),\n",
    "            nn.Conv2d(64, 128, kernel_size = 3, stride = 1, padding = 1),\n",
    "            nn.MaxPool2d(kernel_size = 3, stride = 2, padding = 1), #6\n",
    "            nn.LeakyReLU(),\n",
    "            nn.Conv2d(128, 256, kernel_size = 3, stride = 1, padding = 1),\n",
    "            nn.MaxPool2d(kernel_size = 3, stride = 2, padding = 1), #3\n",
    "            nn.AdaptiveAvgPool2d((1,1)) #flatten\n",
    "        )\n",
    "        \n",
    "        self.dnnModel = nn.Sequential(\n",
    "            nn.Linear(256, 128),\n",
    "            nn.LeakyReLU(),\n",
    "            nn.Linear(128, 64),\n",
    "            nn.LeakyReLU(),\n",
    "            nn.Linear(64, 32),\n",
    "            nn.LeakyReLU(),\n",
    "        )\n",
    "        \n",
    "        self.age_classifier = nn.Linear(32, num_age)\n",
    "        self.gen_classifier = nn.Linear(32, num_gen)     \n",
    "        self.eth_classifier = nn.Linear(32, num_eth)\n",
    "\n",
    "    def forward(self, x):\n",
    "        output = self.cnnModel(x)\n",
    "        output = output.squeeze()\n",
    "        output = self.dnnModel(output)\n",
    "        \n",
    "        age = self.age_classifier(output)\n",
    "        gen = self.gen_classifier(output)\n",
    "        eth = self.eth_classifier(output)\n",
    "\n",
    "        return age, gen, eth"
   ]
  },
  {
   "cell_type": "code",
   "execution_count": 4,
   "metadata": {
    "executionInfo": {
     "elapsed": 190,
     "status": "ok",
     "timestamp": 1624054659108,
     "user": {
      "displayName": "Armin Bazarjani",
      "photoUrl": "https://lh3.googleusercontent.com/a-/AOh14GgWMh-oi0YJtI-yJdyLDSVztfUualX2xpx_lq-GGA=s64",
      "userId": "09638783858940923330"
     },
     "user_tz": 420
    },
    "id": "S78Li3j0JeB8"
   },
   "outputs": [],
   "source": [
    "'''\n",
    "  Function to test the trained model\n",
    "\n",
    "  Inputs:\n",
    "    - testloader : PyTorch DataLoader containing the test dataset\n",
    "    - model : Trained NeuralNetwork\n",
    "  \n",
    "  Outputs:\n",
    "    - Prints out test accuracy for age, gender and ethnicity\n",
    "'''\n",
    "def test(testloader, model):\n",
    "  device = 'cuda' if torch.cuda.is_available() else 'cpu' \n",
    "  size = len(testloader.dataset)  \n",
    "  model.eval() # put the model in evaluation mode for inference\n",
    "\n",
    "  age_acc, gen_acc, eth_acc = 0, 0, 0\n",
    "\n",
    "  with torch.no_grad(): # prevent gradient computation\n",
    "      for X, y in testloader:\n",
    "          X = X.to(device)\n",
    "          age, gen, eth = y[:,0].to(device), y[:,1].to(device), y[:,2].to(device)\n",
    "          pred = model(X)\n",
    "\n",
    "          age_acc += (pred[0].argmax(1) == age).type(torch.float).sum().item()\n",
    "          gen_acc += (pred[1].argmax(1) == gen).type(torch.float).sum().item()\n",
    "          eth_acc += (pred[2].argmax(1) == eth).type(torch.float).sum().item()\n",
    "\n",
    "  age_acc /= size\n",
    "  gen_acc /= size\n",
    "  eth_acc /= size\n",
    "\n",
    "  print(f\"Age Accuracy : {age_acc*100}%,     Gender Accuracy : {gen_acc*100},    Ethnicity Accuracy : {eth_acc*100}\\n\")"
   ]
  },
  {
   "cell_type": "code",
   "execution_count": 148,
   "metadata": {},
   "outputs": [],
   "source": [
    "'''\n",
    "  Function to make the confusion matrices and classification reports out of the final model\n",
    "\n",
    "  Inputs:\n",
    "    - testloader : PyTorch DataLoader containing the test dataset\n",
    "    - model : Trained NeuralNetwork\n",
    "  \n",
    "  Outputs:\n",
    "    - Returns confusion matrices and classification reports for age, gender and ethnicity\n",
    "'''\n",
    "\n",
    "def metrics(testloader, model):\n",
    "  device = 'cuda' if torch.cuda.is_available() else 'cpu' \n",
    "  model.eval() # put the model in evaluation mode so we aren't storing anything in the graph\n",
    "\n",
    "  age_pred_all, gen_pred_all, eth_pred_all = torch.tensor([]).to(device), torch.tensor([]).to(device), torch.tensor([]).to(device)\n",
    "  age_act_all, gen_act_all, eth_act_all = torch.tensor([]).to(device), torch.tensor([]).to(device), torch.tensor([]).to(device)\n",
    "\n",
    "  with torch.no_grad():\n",
    "      for images, labels in testloader:\n",
    "          images = images.to(device)\n",
    "          labels = labels.to(device)\n",
    "          preds = model(images)\n",
    "          age_pred, gen_pred, eth_pred = preds[0].argmax(1), preds[1].argmax(1), preds[2].argmax(1)\n",
    "          age_pred_all, gen_pred_all, eth_pred_all = torch.concat((age_pred_all, age_pred), 0), torch.concat((gen_pred_all, gen_pred), 0), torch.concat((eth_pred_all, eth_pred), 0)\n",
    "          age_act_all, gen_act_all, eth_act_all = torch.concat((age_act_all, labels[:, 0]), 0), torch.concat((gen_act_all, labels[:, 1]), 0), torch.concat((eth_act_all, labels[:, 2]), 0)\n",
    "  \n",
    "  # Generating a confusion matrix and classification report based on above predictions.\n",
    "\n",
    "  cf_mat_age = confusion_matrix(age_act_all.tolist(), age_pred_all.tolist(), normalize='true')\n",
    "  cf_mat_gen = confusion_matrix(gen_act_all.tolist(), gen_pred_all.tolist(), normalize='true')\n",
    "  cf_mat_eth = confusion_matrix(eth_act_all.tolist(), eth_pred_all.tolist(), normalize='true')\n",
    "\n",
    "  cl_rep_age = classification_report(age_act_all.tolist(), age_pred_all.tolist(), target_names=age_map)\n",
    "  cl_rep_gen = classification_report(gen_act_all.tolist(), gen_pred_all.tolist(), target_names=gen_map)\n",
    "  cl_rep_eth = classification_report(eth_act_all.tolist(), eth_pred_all.tolist(), target_names=eth_map)\n",
    "\n",
    "  return cf_mat_age, cf_mat_gen, cf_mat_eth, cl_rep_age, cl_rep_gen, cl_rep_eth"
   ]
  },
  {
   "cell_type": "code",
   "execution_count": 6,
   "metadata": {
    "colab": {
     "base_uri": "https://localhost:8080/"
    },
    "executionInfo": {
     "elapsed": 11082,
     "status": "ok",
     "timestamp": 1624053963605,
     "user": {
      "displayName": "Armin Bazarjani",
      "photoUrl": "https://lh3.googleusercontent.com/a-/AOh14GgWMh-oi0YJtI-yJdyLDSVztfUualX2xpx_lq-GGA=s64",
      "userId": "09638783858940923330"
     },
     "user_tz": 420
    },
    "id": "r9QWQfreI_qW",
    "outputId": "017215ff-675b-437b-c638-c4dcf72641be"
   },
   "outputs": [
    {
     "name": "stdout",
     "output_type": "stream",
     "text": [
      "Shape of training X: torch.Size([64, 1, 48, 48])\n",
      "Shape of y: torch.Size([64, 3])\n"
     ]
    }
   ],
   "source": [
    "# Read in the dataframe\n",
    "dataFrame = pd.read_csv('../Data/age_gender.csv')\n",
    "\n",
    "# Construct age bins\n",
    "age_bins = [0,2,9,20,35,60,120]\n",
    "age_labels = [0, 1, 2, 3, 4, 5]\n",
    "dataFrame['bins'] = pd.cut(dataFrame.age, bins=age_bins, labels=age_labels)\n",
    "\n",
    "# Split into training and testing\n",
    "train_dataFrame, test_dataFrame = train_test_split(dataFrame, test_size=0.2)\n",
    "\n",
    "# get the number of unique classes for each group\n",
    "class_nums = {'age_num':len(dataFrame['bins'].unique()), 'eth_num':len(dataFrame['ethnicity'].unique()),\n",
    "              'gen_num':len(dataFrame['gender'].unique())}\n",
    "\n",
    "# Define train and test transforms\n",
    "train_transform = transforms.Compose([\n",
    "    transforms.ToTensor(),\n",
    "    transforms.Normalize((0.49,), (0.23,))\n",
    "])\n",
    "\n",
    "test_transform = transforms.Compose([\n",
    "    transforms.ToTensor(),\n",
    "    transforms.Normalize((0.49,), (0.23,))\n",
    "])\n",
    "\n",
    "# Construct the custom pytorch datasets\n",
    "train_set = UTKDataset(train_dataFrame, transform=train_transform)\n",
    "test_set = UTKDataset(test_dataFrame, transform=test_transform)\n",
    "\n",
    "# Load the datasets into dataloaders\n",
    "trainloader = DataLoader(train_set, batch_size=64, shuffle=True)\n",
    "testloader = DataLoader(test_set, batch_size=128, shuffle=False)\n",
    "\n",
    "# Sanity Check\n",
    "for X, y in trainloader:\n",
    "    print(f'Shape of training X: {X.shape}')\n",
    "    print(f'Shape of y: {y.shape}')\n",
    "    break"
   ]
  },
  {
   "cell_type": "code",
   "execution_count": 7,
   "metadata": {
    "colab": {
     "base_uri": "https://localhost:8080/"
    },
    "executionInfo": {
     "elapsed": 154,
     "status": "ok",
     "timestamp": 1624053999222,
     "user": {
      "displayName": "Armin Bazarjani",
      "photoUrl": "https://lh3.googleusercontent.com/a-/AOh14GgWMh-oi0YJtI-yJdyLDSVztfUualX2xpx_lq-GGA=s64",
      "userId": "09638783858940923330"
     },
     "user_tz": 420
    },
    "id": "KHME6XaiB4RA",
    "outputId": "a410ed61-bd19-484b-d55c-a5c252d4b162"
   },
   "outputs": [
    {
     "name": "stdout",
     "output_type": "stream",
     "text": [
      "cuda\n"
     ]
    },
    {
     "data": {
      "text/plain": [
       "==========================================================================================\n",
       "Layer (type:depth-idx)                   Output Shape              Param #\n",
       "==========================================================================================\n",
       "MultiLabelCNN                            [64, 6]                   --\n",
       "├─Sequential: 1-1                        [64, 256, 1, 1]           --\n",
       "│    └─Conv2d: 2-1                       [64, 32, 48, 48]          320\n",
       "│    └─MaxPool2d: 2-2                    [64, 32, 24, 24]          --\n",
       "│    └─LeakyReLU: 2-3                    [64, 32, 24, 24]          --\n",
       "│    └─Conv2d: 2-4                       [64, 64, 24, 24]          18,496\n",
       "│    └─MaxPool2d: 2-5                    [64, 64, 12, 12]          --\n",
       "│    └─LeakyReLU: 2-6                    [64, 64, 12, 12]          --\n",
       "│    └─Conv2d: 2-7                       [64, 128, 12, 12]         73,856\n",
       "│    └─MaxPool2d: 2-8                    [64, 128, 6, 6]           --\n",
       "│    └─LeakyReLU: 2-9                    [64, 128, 6, 6]           --\n",
       "│    └─Conv2d: 2-10                      [64, 256, 6, 6]           295,168\n",
       "│    └─MaxPool2d: 2-11                   [64, 256, 3, 3]           --\n",
       "│    └─AdaptiveAvgPool2d: 2-12           [64, 256, 1, 1]           --\n",
       "├─Sequential: 1-2                        [64, 32]                  --\n",
       "│    └─Linear: 2-13                      [64, 128]                 32,896\n",
       "│    └─LeakyReLU: 2-14                   [64, 128]                 --\n",
       "│    └─Linear: 2-15                      [64, 64]                  8,256\n",
       "│    └─LeakyReLU: 2-16                   [64, 64]                  --\n",
       "│    └─Linear: 2-17                      [64, 32]                  2,080\n",
       "│    └─LeakyReLU: 2-18                   [64, 32]                  --\n",
       "├─Linear: 1-3                            [64, 6]                   198\n",
       "├─Linear: 1-4                            [64, 2]                   66\n",
       "├─Linear: 1-5                            [64, 5]                   165\n",
       "==========================================================================================\n",
       "Total params: 431,501\n",
       "Trainable params: 431,501\n",
       "Non-trainable params: 0\n",
       "Total mult-adds (Units.GIGABYTES): 2.09\n",
       "==========================================================================================\n",
       "Input size (MB): 0.59\n",
       "Forward/backward pass size (MB): 70.90\n",
       "Params size (MB): 1.73\n",
       "Estimated Total Size (MB): 73.22\n",
       "=========================================================================================="
      ]
     },
     "execution_count": 7,
     "metadata": {},
     "output_type": "execute_result"
    }
   ],
   "source": [
    "# Configure the device \n",
    "device = 'cuda' if torch.cuda.is_available() else 'cpu' \n",
    "print(device)\n",
    "\n",
    "# Define the list of hyperparameters\n",
    "hyperparameters = {'learning_rate':0.001, 'epochs':20}\n",
    "\n",
    "# Initialize the MultiLabelCNN model and put on device\n",
    "model = MultiLabelCNN(class_nums['age_num'], class_nums['gen_num'], class_nums['eth_num'])\n",
    "model.to(device)\n",
    "summary(model, (64, 1, 48, 48)) # summary of the model using torchinfo"
   ]
  },
  {
   "cell_type": "code",
   "execution_count": 8,
   "metadata": {
    "executionInfo": {
     "elapsed": 146,
     "status": "ok",
     "timestamp": 1624054001685,
     "user": {
      "displayName": "Armin Bazarjani",
      "photoUrl": "https://lh3.googleusercontent.com/a-/AOh14GgWMh-oi0YJtI-yJdyLDSVztfUualX2xpx_lq-GGA=s64",
      "userId": "09638783858940923330"
     },
     "user_tz": 420
    },
    "id": "M1e1Yf_bE2bt"
   },
   "outputs": [],
   "source": [
    "'''\n",
    "  Functions to load and save a PyTorch model\n",
    "'''\n",
    "def save_checkpoint(state, epoch):\n",
    "  print(\"Saving Checkpoint\")\n",
    "  filename = \"../checkpoints/MultiLabelCNN_epoch\"+str(epoch)+\".pth.tar\"\n",
    "  torch.save(state,filename)\n",
    "\n",
    "def load_checkpoint(checkpoint):\n",
    "  print(\"Loading Checkpoint\")\n",
    "  model.load_state_dict(checkpoint['state_dict'])\n",
    "  opt.load_state_dict(checkpoint['optimizer'])\n"
   ]
  },
  {
   "cell_type": "code",
   "execution_count": 9,
   "metadata": {
    "colab": {
     "base_uri": "https://localhost:8080/",
     "height": 1000
    },
    "executionInfo": {
     "elapsed": 253766,
     "status": "error",
     "timestamp": 1624054575708,
     "user": {
      "displayName": "Armin Bazarjani",
      "photoUrl": "https://lh3.googleusercontent.com/a-/AOh14GgWMh-oi0YJtI-yJdyLDSVztfUualX2xpx_lq-GGA=s64",
      "userId": "09638783858940923330"
     },
     "user_tz": 420
    },
    "id": "FGdpJIvvJZWk",
    "outputId": "87e7214d-35c1-4bec-a921-209981ab7862"
   },
   "outputs": [
    {
     "name": "stderr",
     "output_type": "stream",
     "text": [
      "Epoch [1/20]:   0%|          | 1/297 [00:00<00:42,  6.94it/s, loss=4.1] "
     ]
    },
    {
     "name": "stdout",
     "output_type": "stream",
     "text": [
      "Saving Checkpoint\n"
     ]
    },
    {
     "name": "stderr",
     "output_type": "stream",
     "text": [
      "Epoch [1/20]: 100%|██████████| 297/297 [00:05<00:00, 52.19it/s, loss=3.34]\n"
     ]
    },
    {
     "name": "stdout",
     "output_type": "stream",
     "text": [
      "Epoch : 1/20,    Age Accuracy : 45.48091120016874,    Gender Accuracy : 63.85783589959924,    Ethnicity Accuracy : 47.22632356043029\n",
      "\n"
     ]
    },
    {
     "name": "stderr",
     "output_type": "stream",
     "text": [
      "Epoch [2/20]: 100%|██████████| 297/297 [00:05<00:00, 53.80it/s, loss=2.18]\n"
     ]
    },
    {
     "name": "stdout",
     "output_type": "stream",
     "text": [
      "Epoch : 2/20,    Age Accuracy : 56.10630668635309,    Gender Accuracy : 78.46973212402447,    Ethnicity Accuracy : 57.85171904661463\n",
      "\n"
     ]
    },
    {
     "name": "stderr",
     "output_type": "stream",
     "text": [
      "Epoch [3/20]: 100%|██████████| 297/297 [00:05<00:00, 53.85it/s, loss=1.66]\n"
     ]
    },
    {
     "name": "stdout",
     "output_type": "stream",
     "text": [
      "Epoch : 3/20,    Age Accuracy : 61.368909512761014,    Gender Accuracy : 83.01518666947901,    Ethnicity Accuracy : 67.54376713773466\n",
      "\n"
     ]
    },
    {
     "name": "stderr",
     "output_type": "stream",
     "text": [
      "Epoch [4/20]: 100%|██████████| 297/297 [00:05<00:00, 52.94it/s, loss=2.03]\n"
     ]
    },
    {
     "name": "stdout",
     "output_type": "stream",
     "text": [
      "Epoch : 4/20,    Age Accuracy : 64.59080362792659,    Gender Accuracy : 85.72558531955283,    Ethnicity Accuracy : 72.0523096393166\n",
      "\n"
     ]
    },
    {
     "name": "stderr",
     "output_type": "stream",
     "text": [
      "Epoch [5/20]: 100%|██████████| 297/297 [00:05<00:00, 51.94it/s, loss=1.25]\n"
     ]
    },
    {
     "name": "stdout",
     "output_type": "stream",
     "text": [
      "Epoch : 5/20,    Age Accuracy : 66.63151233916895,    Gender Accuracy : 87.23897911832947,    Ethnicity Accuracy : 74.62560641214934\n",
      "\n"
     ]
    },
    {
     "name": "stderr",
     "output_type": "stream",
     "text": [
      "Epoch [6/20]:   2%|▏         | 6/297 [00:00<00:05, 51.28it/s, loss=1.51]"
     ]
    },
    {
     "name": "stdout",
     "output_type": "stream",
     "text": [
      "Saving Checkpoint\n"
     ]
    },
    {
     "name": "stderr",
     "output_type": "stream",
     "text": [
      "Epoch [6/20]: 100%|██████████| 297/297 [00:05<00:00, 54.37it/s, loss=1.57]\n"
     ]
    },
    {
     "name": "stdout",
     "output_type": "stream",
     "text": [
      "Epoch : 6/20,    Age Accuracy : 68.36110525205653,    Gender Accuracy : 88.09850242564859,    Ethnicity Accuracy : 76.27610208816705\n",
      "\n"
     ]
    },
    {
     "name": "stderr",
     "output_type": "stream",
     "text": [
      "Epoch [7/20]: 100%|██████████| 297/297 [00:05<00:00, 52.92it/s, loss=1.14]\n"
     ]
    },
    {
     "name": "stdout",
     "output_type": "stream",
     "text": [
      "Epoch : 7/20,    Age Accuracy : 69.76376291921535,    Gender Accuracy : 88.7154608732335,    Ethnicity Accuracy : 78.14279687829571\n",
      "\n"
     ]
    },
    {
     "name": "stderr",
     "output_type": "stream",
     "text": [
      "Epoch [8/20]: 100%|██████████| 297/297 [00:05<00:00, 56.69it/s, loss=2.01]\n"
     ]
    },
    {
     "name": "stdout",
     "output_type": "stream",
     "text": [
      "Epoch : 8/20,    Age Accuracy : 71.21915207762075,    Gender Accuracy : 89.66990086479646,    Ethnicity Accuracy : 78.81775996625184\n",
      "\n"
     ]
    },
    {
     "name": "stderr",
     "output_type": "stream",
     "text": [
      "Epoch [9/20]: 100%|██████████| 297/297 [00:05<00:00, 54.50it/s, loss=1.12] \n"
     ]
    },
    {
     "name": "stdout",
     "output_type": "stream",
     "text": [
      "Epoch : 9/20,    Age Accuracy : 72.3106939464248,    Gender Accuracy : 90.24994726850876,    Ethnicity Accuracy : 80.47352879139422\n",
      "\n"
     ]
    },
    {
     "name": "stderr",
     "output_type": "stream",
     "text": [
      "Epoch [10/20]: 100%|██████████| 297/297 [00:05<00:00, 53.51it/s, loss=1.41] \n"
     ]
    },
    {
     "name": "stdout",
     "output_type": "stream",
     "text": [
      "Epoch : 10/20,    Age Accuracy : 73.46024045560009,    Gender Accuracy : 90.80890107572243,    Ethnicity Accuracy : 81.59670955494622\n",
      "\n"
     ]
    },
    {
     "name": "stderr",
     "output_type": "stream",
     "text": [
      "Epoch [11/20]:   2%|▏         | 5/297 [00:00<00:05, 49.02it/s, loss=1.44]"
     ]
    },
    {
     "name": "stdout",
     "output_type": "stream",
     "text": [
      "Saving Checkpoint\n"
     ]
    },
    {
     "name": "stderr",
     "output_type": "stream",
     "text": [
      "Epoch [11/20]: 100%|██████████| 297/297 [00:05<00:00, 52.46it/s, loss=1.2]  \n"
     ]
    },
    {
     "name": "stdout",
     "output_type": "stream",
     "text": [
      "Epoch : 11/20,    Age Accuracy : 74.93672221050412,    Gender Accuracy : 91.37840118118541,    Ethnicity Accuracy : 82.67770512550095\n",
      "\n"
     ]
    },
    {
     "name": "stderr",
     "output_type": "stream",
     "text": [
      "Epoch [12/20]: 100%|██████████| 297/297 [00:05<00:00, 53.64it/s, loss=1.27] \n"
     ]
    },
    {
     "name": "stdout",
     "output_type": "stream",
     "text": [
      "Epoch : 12/20,    Age Accuracy : 76.492301202278,    Gender Accuracy : 91.92153554102511,    Ethnicity Accuracy : 83.9907192575406\n",
      "\n"
     ]
    },
    {
     "name": "stderr",
     "output_type": "stream",
     "text": [
      "Epoch [13/20]: 100%|██████████| 297/297 [00:05<00:00, 54.10it/s, loss=1.06] \n"
     ]
    },
    {
     "name": "stdout",
     "output_type": "stream",
     "text": [
      "Epoch : 13/20,    Age Accuracy : 77.77894958869437,    Gender Accuracy : 92.56485973423328,    Ethnicity Accuracy : 84.80805737186247\n",
      "\n"
     ]
    },
    {
     "name": "stderr",
     "output_type": "stream",
     "text": [
      "Epoch [14/20]: 100%|██████████| 297/297 [00:05<00:00, 52.99it/s, loss=1.16] \n"
     ]
    },
    {
     "name": "stdout",
     "output_type": "stream",
     "text": [
      "Epoch : 14/20,    Age Accuracy : 78.92322294874499,    Gender Accuracy : 93.13963298882092,    Ethnicity Accuracy : 85.61484918793504\n",
      "\n"
     ]
    },
    {
     "name": "stderr",
     "output_type": "stream",
     "text": [
      "Epoch [15/20]: 100%|██████████| 297/297 [00:05<00:00, 53.61it/s, loss=1.1]  \n"
     ]
    },
    {
     "name": "stdout",
     "output_type": "stream",
     "text": [
      "Epoch : 15/20,    Age Accuracy : 80.10968150179288,    Gender Accuracy : 93.76186458553047,    Ethnicity Accuracy : 86.50073824087745\n",
      "\n"
     ]
    },
    {
     "name": "stderr",
     "output_type": "stream",
     "text": [
      "Epoch [16/20]:   2%|▏         | 5/297 [00:00<00:06, 47.16it/s, loss=0.944]"
     ]
    },
    {
     "name": "stdout",
     "output_type": "stream",
     "text": [
      "Saving Checkpoint\n"
     ]
    },
    {
     "name": "stderr",
     "output_type": "stream",
     "text": [
      "Epoch [16/20]: 100%|██████████| 297/297 [00:05<00:00, 55.00it/s, loss=1.33] \n"
     ]
    },
    {
     "name": "stdout",
     "output_type": "stream",
     "text": [
      "Epoch : 16/20,    Age Accuracy : 80.74245939675174,    Gender Accuracy : 93.97279055051678,    Ethnicity Accuracy : 87.24952541657878\n",
      "\n"
     ]
    },
    {
     "name": "stderr",
     "output_type": "stream",
     "text": [
      "Epoch [17/20]: 100%|██████████| 297/297 [00:05<00:00, 54.52it/s, loss=0.762]\n"
     ]
    },
    {
     "name": "stdout",
     "output_type": "stream",
     "text": [
      "Epoch : 17/20,    Age Accuracy : 81.88673275680236,    Gender Accuracy : 94.61084159460029,    Ethnicity Accuracy : 88.28833579413626\n",
      "\n"
     ]
    },
    {
     "name": "stderr",
     "output_type": "stream",
     "text": [
      "Epoch [18/20]: 100%|██████████| 297/297 [00:05<00:00, 56.35it/s, loss=1.04] \n"
     ]
    },
    {
     "name": "stdout",
     "output_type": "stream",
     "text": [
      "Epoch : 18/20,    Age Accuracy : 83.70596920480912,    Gender Accuracy : 94.67411938409617,    Ethnicity Accuracy : 88.69436827673486\n",
      "\n"
     ]
    },
    {
     "name": "stderr",
     "output_type": "stream",
     "text": [
      "Epoch [19/20]: 100%|██████████| 297/297 [00:05<00:00, 53.20it/s, loss=1.34] \n"
     ]
    },
    {
     "name": "stdout",
     "output_type": "stream",
     "text": [
      "Epoch : 19/20,    Age Accuracy : 84.93461295085424,    Gender Accuracy : 95.08542501581945,    Ethnicity Accuracy : 89.98101666315124\n",
      "\n"
     ]
    },
    {
     "name": "stderr",
     "output_type": "stream",
     "text": [
      "Epoch [20/20]: 100%|██████████| 297/297 [00:05<00:00, 52.44it/s, loss=0.574]"
     ]
    },
    {
     "name": "stdout",
     "output_type": "stream",
     "text": [
      "Epoch : 20/20,    Age Accuracy : 85.56211769668846,    Gender Accuracy : 95.5969204809112,    Ethnicity Accuracy : 90.77726218097449\n",
      "\n"
     ]
    },
    {
     "name": "stderr",
     "output_type": "stream",
     "text": [
      "\n"
     ]
    }
   ],
   "source": [
    "'''\n",
    "  Train the model\n",
    "''' \n",
    "# Load hyperparameters\n",
    "learning_rate = hyperparameters['learning_rate']\n",
    "num_epoch = hyperparameters['epochs']\n",
    "\n",
    "# Define loss functions\n",
    "age_loss = nn.CrossEntropyLoss()\n",
    "gen_loss = nn.CrossEntropyLoss() \n",
    "eth_loss = nn.CrossEntropyLoss()\n",
    "\n",
    "# Define optimizer\n",
    "opt = torch.optim.Adam(model.parameters(), lr=learning_rate)\n",
    "\n",
    "# Train the model\n",
    "for epoch in range(num_epoch):\n",
    "  # Construct tqdm loop to keep track of training\n",
    "  loop = tqdm(enumerate(trainloader), total=len(trainloader), position=0, leave=True)\n",
    "  age_correct, gen_correct, eth_correct, total = 0,0,0,0\n",
    "\n",
    "  # save the model every 5 epochs\n",
    "  if epoch % 5 == 0:\n",
    "    checkpoint = {'state_dict' : model.state_dict(), 'optimizer' : opt.state_dict(), \n",
    "                  'age_loss' : age_loss, 'gen_loss' : gen_loss, 'eth_loss' : eth_loss}\n",
    "    save_checkpoint(checkpoint, epoch)\n",
    "\n",
    "  # Loop through dataLoader\n",
    "  for _, (X,y) in loop:\n",
    "    # Unpack y to get true age, eth, and gen values\n",
    "    # Have to do some special changes to age label to make it compatible with NN output and Loss function\n",
    "    #age, gen, eth = y[:,0].resize_(len(y[:,0]),1).float().to(device), y[:,1].to(device), y[:,2].to(device)\n",
    "    age, gen, eth = y[:,0].to(device), y[:,1].to(device), y[:,2].to(device)\n",
    "    X = X.to(device)\n",
    "    pred = model(X)          # Forward pass\n",
    "    loss = age_loss(pred[0],age) + gen_loss(pred[1],gen) + eth_loss(pred[2],eth)   # Loss calculation\n",
    "\n",
    "    # Backpropagation\n",
    "    opt.zero_grad()          # Zero the gradient\n",
    "    loss.backward()          # Calculate updates\n",
    "\n",
    "    # Gradient Descent\n",
    "    opt.step()               # Apply updates\n",
    "\n",
    "    # Update num correct and total\n",
    "    age_correct += (pred[0].argmax(1) == age).type(torch.float).sum().item()\n",
    "    gen_correct += (pred[1].argmax(1) == gen).type(torch.float).sum().item()\n",
    "    eth_correct += (pred[2].argmax(1) == eth).type(torch.float).sum().item()\n",
    "\n",
    "    total += len(y)\n",
    "\n",
    "    # Update progress bar\n",
    "    loop.set_description(f\"Epoch [{epoch+1}/{num_epoch}]\")\n",
    "    loop.set_postfix(loss = loss.item())\n",
    "\n",
    "  # Update epoch accuracy\n",
    "  gen_acc, eth_acc, age_acc = gen_correct/total, eth_correct/total, age_correct/total\n",
    "\n",
    "  # print out accuracy and loss for epoch\n",
    "  print(f'Epoch : {epoch+1}/{num_epoch},    Age Accuracy : {age_acc*100},    Gender Accuracy : {gen_acc*100},    Ethnicity Accuracy : {eth_acc*100}\\n')"
   ]
  },
  {
   "cell_type": "code",
   "execution_count": 10,
   "metadata": {},
   "outputs": [
    {
     "name": "stdout",
     "output_type": "stream",
     "text": [
      "Saving Checkpoint\n",
      "Age Accuracy : 70.21725374393588%,     Gender Accuracy : 88.54672010124446,    Ethnicity Accuracy : 77.62075511495465\n",
      "\n"
     ]
    }
   ],
   "source": [
    "checkpoint = {'state_dict' : model.state_dict(), 'optimizer' : opt.state_dict(), \n",
    "                'age_loss' : age_loss, 'gen_loss' : gen_loss, 'eth_loss' : eth_loss}\n",
    "\n",
    "save_checkpoint(checkpoint, 'final')\n",
    "\n",
    "test(testloader, model)"
   ]
  },
  {
   "cell_type": "code",
   "execution_count": 149,
   "metadata": {},
   "outputs": [],
   "source": [
    "# Generating confusion matrices and classification reports from the trained model above\n",
    "\n",
    "cf_mat_age, cf_mat_gen, cf_mat_eth, cl_rep_age, cl_rep_gen, cl_rep_eth = metrics(testloader, model)"
   ]
  },
  {
   "cell_type": "code",
   "execution_count": 157,
   "metadata": {},
   "outputs": [
    {
     "data": {
      "image/png": "[encoded data removed]",
      "text/plain": [
       "<Figure size 1500x1000 with 2 Axes>"
      ]
     },
     "metadata": {},
     "output_type": "display_data"
    }
   ],
   "source": [
    "# Plotting the confusion matrix for age\n",
    "\n",
    "df_cm = pd.DataFrame(cf_mat_age, age_map, age_map)\n",
    "plt.figure(figsize=(15,10))\n",
    "sn.set(font_scale=1) # for label size\n",
    "sn.heatmap(df_cm, cmap='Blues', annot=True, annot_kws={\"size\": 12}, fmt = '.2f') # font size and format\n",
    "plt.savefig('../outputs/confusion_matrix_age.png')\n",
    "plt.show()"
   ]
  },
  {
   "cell_type": "code",
   "execution_count": 155,
   "metadata": {},
   "outputs": [
    {
     "data": {
      "image/png": "[encoded data removed]",
      "text/plain": [
       "<Figure size 1500x1000 with 2 Axes>"
      ]
     },
     "metadata": {},
     "output_type": "display_data"
    }
   ],
   "source": [
    "# Plotting the confusion matrix for gender\n",
    "\n",
    "df_cm = pd.DataFrame(cf_mat_gen, gen_map, gen_map)\n",
    "plt.figure(figsize=(15,10))\n",
    "sn.set(font_scale=1) # for label size\n",
    "sn.heatmap(df_cm, cmap='Blues', annot=True, annot_kws={\"size\": 12}, fmt = '.2f') # font size and format\n",
    "plt.savefig('../outputs/confusion_matrix_gender.png')\n",
    "plt.show()"
   ]
  },
  {
   "cell_type": "code",
   "execution_count": 156,
   "metadata": {},
   "outputs": [
    {
     "data": {
      "image/png": "[encoded data removed]",
      "text/plain": [
       "<Figure size 1500x1000 with 2 Axes>"
      ]
     },
     "metadata": {},
     "output_type": "display_data"
    }
   ],
   "source": [
    "# Plotting the confusion matrix for ethnicity\n",
    "\n",
    "df_cm = pd.DataFrame(cf_mat_eth, eth_map, eth_map)\n",
    "plt.figure(figsize=(15,10))\n",
    "sn.set(font_scale=1) # for label size\n",
    "sn.heatmap(df_cm, cmap='Blues', annot=True, annot_kws={\"size\": 12}, fmt = '.2f') # font size and format\n",
    "plt.savefig('../outputs/confusion_matrix_ethnicity.png')\n",
    "plt.show()"
   ]
  },
  {
   "cell_type": "code",
   "execution_count": 169,
   "metadata": {},
   "outputs": [
    {
     "name": "stdout",
     "output_type": "stream",
     "text": [
      "              precision    recall  f1-score   support\n",
      "\n",
      "         1-2       0.90      0.80      0.84       322\n",
      "         3-9       0.65      0.66      0.66       317\n",
      "       10-20       0.53      0.46      0.49       373\n",
      "       21-35       0.75      0.81      0.78      1984\n",
      "       36-60       0.62      0.65      0.64      1275\n",
      "      61-116       0.80      0.53      0.64       470\n",
      "\n",
      "    accuracy                           0.70      4741\n",
      "   macro avg       0.71      0.65      0.67      4741\n",
      "weighted avg       0.70      0.70      0.70      4741\n",
      "\n"
     ]
    }
   ],
   "source": [
    "# Printing the classification report for age\n",
    "\n",
    "with open('../outputs/classification_report_age.txt', 'w') as f:\n",
    "    print(cl_rep_age, file=f)\n",
    "\n",
    "print(cl_rep_age)"
   ]
  },
  {
   "cell_type": "code",
   "execution_count": 170,
   "metadata": {},
   "outputs": [
    {
     "name": "stdout",
     "output_type": "stream",
     "text": [
      "              precision    recall  f1-score   support\n",
      "\n",
      "        Male       0.86      0.94      0.90      2491\n",
      "      Female       0.92      0.83      0.87      2250\n",
      "\n",
      "    accuracy                           0.89      4741\n",
      "   macro avg       0.89      0.88      0.88      4741\n",
      "weighted avg       0.89      0.89      0.88      4741\n",
      "\n"
     ]
    }
   ],
   "source": [
    "# Printing the classification report for gender\n",
    "\n",
    "with open('../outputs/classification_report_gender.txt', 'w') as f:\n",
    "    print(cl_rep_gen, file=f)\n",
    "\n",
    "print(cl_rep_gen)"
   ]
  },
  {
   "cell_type": "code",
   "execution_count": null,
   "metadata": {},
   "outputs": [
    {
     "name": "stdout",
     "output_type": "stream",
     "text": [
      "              precision    recall  f1-score   support\n",
      "\n",
      "       White       0.84      0.82      0.83      2023\n",
      "       Black       0.89      0.76      0.82       939\n",
      "       Asian       0.82      0.86      0.84       663\n",
      "      Indian       0.63      0.83      0.71       813\n",
      "    Hispanic       0.32      0.22      0.26       303\n",
      "\n",
      "    accuracy                           0.78      4741\n",
      "   macro avg       0.70      0.70      0.69      4741\n",
      "weighted avg       0.78      0.78      0.77      4741\n",
      "\n"
     ]
    }
   ],
   "source": [
    "# Printing the classification report for ethnicity\n",
    "\n",
    "with open('../outputs/classification_report_ethnicity.txt', 'w') as f:\n",
    "    print(cl_rep_eth, file=f)\n",
    "\n",
    "print(cl_rep_eth)"
   ]
  },
  {
   "cell_type": "code",
   "execution_count": null,
   "metadata": {},
   "outputs": [],
   "source": []
  }
 ],
 "metadata": {
  "accelerator": "GPU",
  "colab": {
   "authorship_tag": "ABX9TyMwy8EJP0FeZjhJgqMk7Yvj",
   "collapsed_sections": [],
   "name": "TrainTridentMain.ipynb",
   "provenance": []
  },
  "kernelspec": {
   "display_name": "Python 3",
   "name": "python3"
  },
  "language_info": {
   "codemirror_mode": {
    "name": "ipython",
    "version": 3
   },
   "file_extension": ".py",
   "mimetype": "text/x-python",
   "name": "python",
   "nbconvert_exporter": "python",
   "pygments_lexer": "ipython3",
   "version": "3.11.8"
  }
 },
 "nbformat": 4,
 "nbformat_minor": 0
}
